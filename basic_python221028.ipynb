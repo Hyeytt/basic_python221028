{
  "nbformat": 4,
  "nbformat_minor": 0,
  "metadata": {
    "colab": {
      "provenance": [],
      "authorship_tag": "ABX9TyNtCKZ5RYxnnmoyW9NodPZO",
      "include_colab_link": true
    },
    "kernelspec": {
      "name": "python3",
      "display_name": "Python 3"
    },
    "language_info": {
      "name": "python"
    }
  },
  "cells": [
    {
      "cell_type": "markdown",
      "metadata": {
        "id": "view-in-github",
        "colab_type": "text"
      },
      "source": [
        "<a href=\"https://colab.research.google.com/github/Hyeytt/basic_python221028/blob/main/basic_python221028.ipynb\" target=\"_parent\"><img src=\"https://colab.research.google.com/assets/colab-badge.svg\" alt=\"Open In Colab\"/></a>"
      ]
    },
    {
      "cell_type": "markdown",
      "source": [
        "# 1. 사용자로부터 두 개의 정수를 받아서 정수의 합, 정수의 차, 정수의 곱, 정수의 펑균, 큰 수 작은 수를 계산하여 화면에 출력하는 프로그랩을 작성하라. 파이썬이 제공하는 내장 함수 max(x, y), min(x, y)을 사용해보자."
      ],
      "metadata": {
        "id": "pJsN0B3v_7aF"
      }
    },
    {
      "cell_type": "code",
      "source": [
        "x = int(input(\"x의 값은? : \"))                  # int함수를 사용하여 정수로 변환  \n",
        "y = int(input(\"y의 값은? : \"))                  # int함수를 사용하여 정수로 변환   \n",
        "print(\"두수의 합은 : \", x+y )                   # print 함수를 이용하여 \"두 수의 합은\" 과 x+y 값 출력  # 구분자 : 쉼표  \n",
        "print(\"두수의 차는 : \", x-y )                   # print 함수를 이용하여 \"두 수의 차는\" 과 x-y 값 출력\n",
        "print(\"두수의 곱은 : \", x*y)                    # print 함수를 이용하여 \"두 수의 곱은\" 과 x*y 값 출력\n",
        "print(\"두수의 평균은 :\" ,(x+y)/2)               # print 함수를 이용하여 \"두 수의 평균은\" 과 (x+y)/2) 값 출력\n",
        "print(\"큰 수는? : \" , max(x, y))                # 함수 max를 사용하여 x, y 중 큰 수 출력\n",
        "print(\"작은 수는?: \" , min(x,y))                # 함수 max를 사용하여 x, y 중 작은 수 출력 "
      ],
      "metadata": {
        "colab": {
          "base_uri": "https://localhost:8080/"
        },
        "id": "BGWaaraKaVl3",
        "outputId": "1125fe85-c834-442e-9832-c99a57829567"
      },
      "execution_count": 1,
      "outputs": [
        {
          "output_type": "stream",
          "name": "stdout",
          "text": [
            "x의 값은? : 10\n",
            "y의 값은? : 5\n",
            "두수의 합은 :  15\n",
            "두수의 차는 :  5\n",
            "두수의 곱은 :  50\n",
            "두수의 평균은 : 7.5\n",
            "큰 수는? :  10\n",
            "작은 수는?:  5\n"
          ]
        }
      ]
    },
    {
      "cell_type": "markdown",
      "source": [
        "# 2. 원기둥의 부피를 계산하는 프로그랩을 작성해보자. 원기둥의 부피는 다음과 같이 계산한다"
      ],
      "metadata": {
        "id": "aLk_nSyVA5GX"
      }
    },
    {
      "cell_type": "code",
      "source": [
        "r = float(input(\"r의 값은? : \"))                      # 함수 float가 r값을 실수로 변환시킴 \n",
        "h = float(input(\"h의 값은? : \"))                      # 함수 float가 r값을 실수로 변환시킴 \n",
        "\n",
        "vol = 3.141592 * r**2 * h                             #  \"**\" 를 사용하여 제곱표현\n",
        "print(\"원기둥의 부피는\" , vol )"
      ],
      "metadata": {
        "colab": {
          "base_uri": "https://localhost:8080/"
        },
        "id": "S9vIJ3kScgdF",
        "outputId": "1ce1b455-b899-406b-ada0-635844300c48"
      },
      "execution_count": null,
      "outputs": [
        {
          "output_type": "stream",
          "name": "stdout",
          "text": [
            "r의 값은? : 10\n",
            "h의 값은? : 10\n",
            "원기둥의 부피는 3141.592\n"
          ]
        }
      ]
    },
    {
      "cell_type": "markdown",
      "source": [
        "# 3. 사용자로부터 정수를 받아서 정수의 자리수의 합을 계산하는 프로그램을  작성하여 보자. 예릍 들어서 사용자가 1234를 입력하였다면 1+2+3+4를 계산하면 된다. 나머지 연산자와 정수 나눗셈 연산자 // 를 적극적으로 사용해보자."
      ],
      "metadata": {
        "id": "xeWRFWxvBAyt"
      }
    },
    {
      "cell_type": "code",
      "source": [
        "number  = int(input(\"정수를 입력하시오 : \"))            # 함수 int를 사용하여 정수로 변환\n",
        "\n",
        "sum = 0                                                 # 초기화 시키기 , 처음에 시작할때 \n",
        "sum = sum + number % 10                                 # 입력값인 1234를 10으로 나누어서 나온 몫 : 123\n",
        "number = number // 10                                   # 입력값인 1234를 10으로 나누어서 나온 나머지 : 4\n",
        "\n",
        "sum = sum + number % 10                                 # 123를 10으로 나누어서 나온 몫 : 12\n",
        "number = number // 10                                   # 123를 10으로 나누어서 나온 나머지 : 3\n",
        "\n",
        "sum = sum + number % 10                                 # 12를 10으로 나누어서 나온 몫 : 1\n",
        "number = number // 10                                   # 12를 10으로 나누어서 나온 나머지: 2\n",
        "\n",
        "sum = sum + number % 10\n",
        "number = number // 10 \n",
        "\n",
        "print(\" 자리수의 합은 : \", str(sum))"
      ],
      "metadata": {
        "colab": {
          "base_uri": "https://localhost:8080/"
        },
        "id": "uZXjiPFldx9P",
        "outputId": "5d2c7764-853b-4499-a54e-7d9a0b1679d3"
      },
      "execution_count": 2,
      "outputs": [
        {
          "output_type": "stream",
          "name": "stdout",
          "text": [
            "정수를 입력하시오 : 1234\n",
            " 자리수의 합은 :  10\n"
          ]
        }
      ]
    },
    {
      "cell_type": "markdown",
      "source": [
        "# 4. 사용자로부터 두 점의 좌표 (xl, yl)과 (x2, y2)를 입력받아서 두 점 사이의 거리를 계산하는 프로그램을 작성해보자. 스크립트 모드로 작성하라. 거리는 다음 식으로 계산한다."
      ],
      "metadata": {
        "id": "crqxKXLgBpl2"
      }
    },
    {
      "cell_type": "code",
      "source": [
        "x1 = int(input(\"x1의 값을 입력하시오 : \"))                 # int 함수를 이용하여 정수로 변환 \n",
        "y1 = int(input(\"y1의 값을 입력하시오 : \"))\n",
        "x2 = int(input(\"x2의 값을 입력하시오 : \"))\n",
        "y2 = int(input(\"y2의 값을 입력하시오 : \"))\n",
        "dist = ((x2 - x1)**2 +(y2 - y1)**2)**0.5                   # **를 사용하여 거듭제곱\n",
        "print(\"두 점 사이의 거리는\", dist , \"입니다\")\n"
      ],
      "metadata": {
        "colab": {
          "base_uri": "https://localhost:8080/"
        },
        "id": "FlEcz2_8hIi1",
        "outputId": "591eda80-5983-42f2-9aa3-55117d3fc4a6"
      },
      "execution_count": null,
      "outputs": [
        {
          "output_type": "stream",
          "name": "stdout",
          "text": [
            "x1의 값을 입력하시오 : 0\n",
            "y1의 값을 입력하시오 : 0\n",
            "x2의 값을 입력하시오 : 100\n",
            "y2의 값을 입력하시오 : 100\n",
            "두 점 사이의 거리는 141.4213562373095 입니다\n"
          ]
        }
      ]
    },
    {
      "cell_type": "markdown",
      "source": [
        "# 5. 1번 문제에서 계산한 거리가맞는지, 터틀그래픽으로 확인해보자. 거북이를 읜쪽으로 45도회전하여 141만큼 전진시킨다. 다시 거북이를 (0, 0)으로 이동하고 0도를 가리키게 한 후에 100만큼 전진하고 왼쪽으로 90도 회전하여100만큼 전진한다. 화면에 그러진 직선이 일치하는가?"
      ],
      "metadata": {
        "id": "uKJ1mWI7m-07"
      }
    },
    {
      "cell_type": "markdown",
      "source": [
        "    import turtle                     # turtle 함수 불러오기\n",
        "\n",
        "    t = turtle.Turtle()               # t값을 turtle 함수로 변환\n",
        "\n",
        "    t.shape(\"turtle\")                 # t 모양을 거북이 모양으로 설정 \n",
        "\n",
        "    t.left(45)                        # 왼쪽으로 45도 회전 \n",
        "\n",
        "    t.fd(141)                         # 앞으로 141만큼 이동 \n",
        "\n",
        "    t.setheading(0)                   # 거북이 머리를 0도로 설정\n",
        "\n",
        "    t.goto(0,0)                       # 0,0 으로 이동  \n",
        "\n",
        "    t.fd(100)                         # 앞으로 100만큼 이동 \n",
        "\n",
        "    t.left(90)                        # 왼쪽으로 90도 회전\n",
        "\n",
        "    t.fd(100)                         # 앞으로 100만큼 이동 \n",
        "\n",
        "    t. _screen.exitonclick()          # 클릭하여 화면 종료 "
      ],
      "metadata": {
        "id": "MVPliaxqoly4"
      }
    },
    {
      "cell_type": "markdown",
      "source": [
        "# 6. 사용자로부터 두 점을 입력받아서 터틀그래픽을 이용하여 두 점을 연결하는 직선을 그린다. 직선의 끝점에 직선의 길이를 계산하여 출력해보자"
      ],
      "metadata": {
        "id": "6EDceyFuCQBP"
      }
    },
    {
      "cell_type": "markdown",
      "source": [
        "\n",
        "    import turtle                       # turtle 함수 불러오기\n",
        "\n",
        "    t = turtle.Turtle()                 # t값을 turtle 함수로 변환\n",
        "\n",
        "    t.shape(\"turtle\")                   # t 모양을 거북이 모양으로 설정\n",
        "\n",
        "    x1 = int(input(\"x1 : \"))            \n",
        "\n",
        "    y1 = int(input(\"y1 : \"))           \n",
        "\n",
        "    x2 = int(input(\"x2 : \"))\n",
        "\n",
        "    y2 = int(input(\"y2 : \"))\n",
        "\n",
        "    dist = ((x1 - x2) ** 2 + (y1 - y2)**2) ** 0.5      # **를 사용하여 거듭제곱\n",
        "\n",
        "    t.up()                              #  펜 들어올리기\n",
        "\n",
        "    t.goto(x1, y1)\n",
        "\n",
        "    t.down()                            #  펜 들어올리기\n",
        "\n",
        "\n",
        "    t.goto(x2, y2)\n",
        "\n",
        "    t.write(\"점의 길이 = \" + str(dist))   # 문자열 간의 조합이기 때문에 '+' 사용\n",
        "\n",
        "    t. _screen.exitonclick()              # 클릭하여 사라지게 하기 \n",
        "\n"
      ],
      "metadata": {
        "id": "Nq--lfuPuJ66"
      }
    },
    {
      "cell_type": "markdown",
      "source": [
        "# 7. 파이썬에서 time()을 호출하면 1970년 1월 1일 이후 흘러온 전체 초가 반환된다. 이것을 적절하게 나누거나 나머지를 구해서 현재 시간의 시와 분을 계산할 수 있을까?"
      ],
      "metadata": {
        "id": "kGnpCrFVuJly"
      }
    },
    {
      "cell_type": "code",
      "source": [
        "import time                                                 # time 함수 가져오기\n",
        "\n",
        "fseconds = time.time() // 60                                # 현재 시각을 구하기               \n",
        "\n",
        "hour = fseconds // 60 % 24                                 \n",
        "\n",
        "minute = fseconds % 60                                      \n",
        "\n",
        "\n",
        "print(\"현재 시간 (영국 그리니치 시각) :\", int(hour) , \"시\", int(minute), \"분\")"
      ],
      "metadata": {
        "colab": {
          "base_uri": "https://localhost:8080/"
        },
        "id": "9lRWqnS9Mcph",
        "outputId": "a5897e4d-79f4-410a-c23e-b726e31fcc83"
      },
      "execution_count": 5,
      "outputs": [
        {
          "output_type": "stream",
          "name": "stdout",
          "text": [
            "현재 시간 (영국 그리니치 시각) : 11 시 21 분\n"
          ]
        }
      ]
    },
    {
      "cell_type": "markdown",
      "source": [
        "# 8. 움직이는 물체의 운동에너지를 계산해보자.\n",
        "# 물체의 에너지를 계산하는 식은 1/2 * 무게*속도 * * 2이다.\n"
      ],
      "metadata": {
        "id": "oIlx0bLvPR0-"
      }
    },
    {
      "cell_type": "code",
      "source": [
        "weight = int(input(\"물체의 무게를 입력하시오(킬로그램): \"))\n",
        "speed  = int(input(\"물체의 속도를 입력하시오(미터/초): \"))\n",
        " \n",
        "print(\"물체는\", 1/2 * weight* speed**2, \"(줄)의 에너지를 가지고 있다.\")"
      ],
      "metadata": {
        "colab": {
          "base_uri": "https://localhost:8080/"
        },
        "id": "vdYoXOWbPSDj",
        "outputId": "43c50ec6-7dfa-460d-abab-afe91f421dda"
      },
      "execution_count": 6,
      "outputs": [
        {
          "output_type": "stream",
          "name": "stdout",
          "text": [
            "물체의 무게를 입력하시오(킬로그램): 10\n",
            "물체의 속도를 입력하시오(미터/초): 100\n",
            "물체는 50000.0 (줄)의 에너지를 가지고 있다.\n"
          ]
        }
      ]
    }
  ]
}