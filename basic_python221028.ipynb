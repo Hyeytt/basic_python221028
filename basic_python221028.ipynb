{
  "nbformat": 4,
  "nbformat_minor": 0,
  "metadata": {
    "colab": {
      "provenance": [],
      "authorship_tag": "ABX9TyMPeHVA6ryvSc1jDXYG0RgX",
      "include_colab_link": true
    },
    "kernelspec": {
      "name": "python3",
      "display_name": "Python 3"
    },
    "language_info": {
      "name": "python"
    }
  },
  "cells": [
    {
      "cell_type": "markdown",
      "metadata": {
        "id": "view-in-github",
        "colab_type": "text"
      },
      "source": [
        "<a href=\"https://colab.research.google.com/github/Hyeytt/basic_python221028/blob/main/basic_python221028.ipynb\" target=\"_parent\"><img src=\"https://colab.research.google.com/assets/colab-badge.svg\" alt=\"Open In Colab\"/></a>"
      ]
    },
    {
      "cell_type": "code",
      "source": [
        "x = int(input(\"x의 값은? : \"))\n",
        "y = int(input(\"y의 값은? : \"))\n",
        "\n",
        "print(\" 두수의 합은 : \", x+y )         # 구분자 : 쉼표\n",
        "print(\" 두수의 차는 : \", x-y )\n",
        "print(\" 두수의 곱은 : \", x*y)\n",
        "print(\" 두수의 평균은 :\" ,(x+y)/2)\n",
        "print(\"큰 수는? : \" , max(x, y))\n",
        "print(\"작은 수는?: \" , min(x,y))"
      ],
      "metadata": {
        "colab": {
          "base_uri": "https://localhost:8080/"
        },
        "id": "BGWaaraKaVl3",
        "outputId": "500fd7e6-e948-48c2-b6ec-8ab14c0c2bf7"
      },
      "execution_count": 2,
      "outputs": [
        {
          "output_type": "stream",
          "name": "stdout",
          "text": [
            "x의 값은? : 10\n",
            "y의 값은? : 5\n",
            " 두수의 합은 :  15\n",
            " 두수의 차는 :  5\n",
            " 두수의 곱은 :  50\n",
            " 두수의 평균은 : 7.5\n",
            "큰 수는? :  10\n",
            "작은 수는?:  5\n"
          ]
        }
      ]
    },
    {
      "cell_type": "code",
      "source": [
        "r = float(input(\"r의 값은? : \"))\n",
        "h = float(input(\"h의 값은? : \"))\n",
        "\n",
        "vol = 3.141592 * r**2 * h\n",
        "print(\"원기둥의 부피는\" , vol )"
      ],
      "metadata": {
        "colab": {
          "base_uri": "https://localhost:8080/"
        },
        "id": "S9vIJ3kScgdF",
        "outputId": "1ce1b455-b899-406b-ada0-635844300c48"
      },
      "execution_count": 4,
      "outputs": [
        {
          "output_type": "stream",
          "name": "stdout",
          "text": [
            "r의 값은? : 10\n",
            "h의 값은? : 10\n",
            "원기둥의 부피는 3141.592\n"
          ]
        }
      ]
    }
  ]
}