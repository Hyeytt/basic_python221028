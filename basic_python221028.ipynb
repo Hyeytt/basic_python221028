{
  "nbformat": 4,
  "nbformat_minor": 0,
  "metadata": {
    "colab": {
      "provenance": [],
      "authorship_tag": "ABX9TyNK0XrFjhreeq5wkGmn1jBy",
      "include_colab_link": true
    },
    "kernelspec": {
      "name": "python3",
      "display_name": "Python 3"
    },
    "language_info": {
      "name": "python"
    }
  },
  "cells": [
    {
      "cell_type": "markdown",
      "metadata": {
        "id": "view-in-github",
        "colab_type": "text"
      },
      "source": [
        "<a href=\"https://colab.research.google.com/github/Hyeytt/basic_python221028/blob/main/basic_python221028.ipynb\" target=\"_parent\"><img src=\"https://colab.research.google.com/assets/colab-badge.svg\" alt=\"Open In Colab\"/></a>"
      ]
    },
    {
      "cell_type": "code",
      "source": [
        "x = int(input(\"x의 값은? : \"))\n",
        "y = int(input(\"y의 값은? : \"))\n",
        "\n",
        "print(\"두수의 합은 : \", x+y )         # 구분자 : 쉼표\n",
        "print(\"두수의 차는 : \", x-y )\n",
        "print(\"두수의 곱은 : \", x*y)\n",
        "print(\"두수의 평균은 :\" ,(x+y)/2)\n",
        "print(\"큰 수는? : \" , max(x, y))\n",
        "print(\"작은 수는?: \" , min(x,y))"
      ],
      "metadata": {
        "colab": {
          "base_uri": "https://localhost:8080/"
        },
        "id": "BGWaaraKaVl3",
        "outputId": "9bb89100-a019-423c-bfc0-61bc60770ab9"
      },
      "execution_count": 11,
      "outputs": [
        {
          "output_type": "stream",
          "name": "stdout",
          "text": [
            "x의 값은? : 10\n",
            "y의 값은? : 5\n",
            "두수의 합은 :  15\n",
            "두수의 차는 :  5\n",
            "두수의 곱은 :  50\n",
            "두수의 평균은 : 7.5\n",
            "큰 수는? :  10\n",
            "작은 수는?:  5\n"
          ]
        }
      ]
    },
    {
      "cell_type": "code",
      "source": [
        "r = float(input(\"r의 값은? : \"))\n",
        "h = float(input(\"h의 값은? : \"))\n",
        "\n",
        "vol = 3.141592 * r**2 * h\n",
        "print(\"원기둥의 부피는\" , vol )"
      ],
      "metadata": {
        "colab": {
          "base_uri": "https://localhost:8080/"
        },
        "id": "S9vIJ3kScgdF",
        "outputId": "1ce1b455-b899-406b-ada0-635844300c48"
      },
      "execution_count": 4,
      "outputs": [
        {
          "output_type": "stream",
          "name": "stdout",
          "text": [
            "r의 값은? : 10\n",
            "h의 값은? : 10\n",
            "원기둥의 부피는 3141.592\n"
          ]
        }
      ]
    },
    {
      "cell_type": "code",
      "source": [
        "number  = int(input(\"정수를 입력하시오 : \"))\n",
        "\n",
        "sum = 0     # 초기화 시키기 , 처음에 시작할때 \n",
        "sum = sum + number % 10\n",
        "number = number // 10 \n",
        "\n",
        "sum = sum + number % 10\n",
        "number = number // 10\n",
        "\n",
        "sum = sum + number % 10 \n",
        "number = number // 10 \n",
        "\n",
        "sum = sum + number % 10\n",
        "number = number // 10 \n",
        "\n",
        "print(\" 자리수의 합은 : \", str(sum))"
      ],
      "metadata": {
        "colab": {
          "base_uri": "https://localhost:8080/"
        },
        "id": "uZXjiPFldx9P",
        "outputId": "538100ae-f3c2-41a8-a568-747df1aebce6"
      },
      "execution_count": 7,
      "outputs": [
        {
          "output_type": "stream",
          "name": "stdout",
          "text": [
            "정수를 입력하시오 : 1234\n",
            " 자리수의 합은 :  10\n"
          ]
        }
      ]
    },
    {
      "cell_type": "code",
      "source": [
        "x1 = int(input(\"x1의 값을 입력하시오 : \"))\n",
        "y1 = int(input(\"y1의 값을 입력하시오 : \"))\n",
        "x2 = int(input(\"x2의 값을 입력하시오 : \"))\n",
        "y2 = int(input(\"y2의 값을 입력하시오 : \"))\n",
        "dist = ((x2 - x1)**2 +(y2 - y1)**2)**0.5\n",
        "print(\"두 점 사이의 거리는\", dist , \"입니다\")\n"
      ],
      "metadata": {
        "colab": {
          "base_uri": "https://localhost:8080/"
        },
        "id": "FlEcz2_8hIi1",
        "outputId": "591eda80-5983-42f2-9aa3-55117d3fc4a6"
      },
      "execution_count": 10,
      "outputs": [
        {
          "output_type": "stream",
          "name": "stdout",
          "text": [
            "x1의 값을 입력하시오 : 0\n",
            "y1의 값을 입력하시오 : 0\n",
            "x2의 값을 입력하시오 : 100\n",
            "y2의 값을 입력하시오 : 100\n",
            "두 점 사이의 거리는 141.4213562373095 입니다\n"
          ]
        }
      ]
    },
    {
      "cell_type": "markdown",
      "source": [],
      "metadata": {
        "id": "uKJ1mWI7m-07"
      }
    },
    {
      "cell_type": "markdown",
      "source": [
        "import turtle\n",
        "\n",
        " t = turtle.Turtle()\n",
        "\n",
        "\n",
        " t.shape(\"turtle\")\n",
        " \n",
        "t.left(45)\n",
        "\n",
        " t.fd(141)\n",
        "\n",
        " t.setheading(0)\n",
        "\n",
        " t.goto(0,0)\n",
        "\n",
        " t.fd(100)\n",
        "\n",
        " t.lt(90)\n",
        "\n",
        " t.fd(100)\n"
      ],
      "metadata": {
        "id": "ol34r6a3mwgw"
      }
    },
    {
      "cell_type": "markdown",
      "source": [
        "    import turtle\n",
        "\n",
        "    t = turtle.Turtle()\n",
        "\n",
        "    t.shape(\"turtle\")\n",
        "\n",
        "    t.left(45)\n",
        "\n",
        "    t.fd(141)\n",
        "\n",
        "    t.setheading(0)\n",
        "\n",
        "    t.goto(0,0)\n",
        "\n",
        "    t.fd(100)\n",
        "\n",
        "    t.lt(90)\n",
        "\n",
        "    t.fd(100)\n",
        "\n",
        "    t. _screen.exitonclick()"
      ],
      "metadata": {
        "id": "MVPliaxqoly4"
      }
    },
    {
      "cell_type": "markdown",
      "source": [
        "import turtle\n",
        "\n",
        "t = turtle.Turtle()\n",
        "\n",
        "\n",
        "t.shape(\"turtle\")\n",
        "\n",
        "x1 = int(input(\"x1 : \"))\n",
        "\n",
        "\n",
        "y1 = int(input(\"y1 : \"))\n",
        "\n",
        "\n",
        "x2 = int(input(\"x2 : \"))\n",
        "\n",
        "\n",
        "y2 = int(input(\"y2 : \"))\n",
        "\n",
        "\n",
        "\n",
        "dist =((x1 - x2)** 2  + (y1 - y2)**2 )**0.5\n",
        "\n",
        "\n",
        "t.up()\n",
        "\n",
        "\n",
        "t.goto(x1,y1)\n",
        "\n",
        "\n",
        "t.down\n",
        "\n",
        "t.goto(x2,y2)\n",
        "\n",
        "t.write(\"점의 길이 = \", str(dist))\n"
      ],
      "metadata": {
        "id": "p6vKGnGCr2qM"
      }
    }
  ]
}